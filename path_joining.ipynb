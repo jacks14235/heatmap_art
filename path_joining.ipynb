{
 "cells": [
  {
   "cell_type": "code",
   "execution_count": 31,
   "id": "194644aa-fc7c-4abb-9fa0-3f35920adce3",
   "metadata": {},
   "outputs": [
    {
     "data": {
      "text/plain": [
       "<matplotlib.image.AxesImage at 0x1136c93c0>"
      ]
     },
     "execution_count": 31,
     "metadata": {},
     "output_type": "execute_result"
    },
    {
     "data": {
      "image/png": "[encoded data removed]",
      "text/plain": [
       "<Figure size 640x480 with 1 Axes>"
      ]
     },
     "metadata": {},
     "output_type": "display_data"
    }
   ],
   "source": [
    "import numpy as np\n",
    "import matplotlib.pyplot as plt\n",
    "from math import sin, cos, pi\n",
    "import random\n",
    "\n",
    "random.seed(777)\n",
    "\n",
    "N = 3\n",
    "paths = []\n",
    "\n",
    "counts = [45, 40, 39]\n",
    "offsets = [0.5, 0, 0.3]\n",
    "\n",
    "path1 = np.linspace(0, 1, 10)\n",
    "path1 = np.repeat(path1, 2).reshape(-1, 2)\n",
    "path1[:, 0] = 0.5\n",
    "path1 += np.random.rand(*path1.shape) * .02\n",
    "\n",
    "\n",
    "path2 = np.linspace(.01, 1, 11)\n",
    "path2 = np.repeat(path2, 2).reshape(-1, 2)\n",
    "path2[:, 0] = 0.5\n",
    "path2 += np.random.rand(*path2.shape) * .02\n",
    "\n",
    "path3a = np.linspace(0, 0.5, 5)\n",
    "path3a = np.repeat(path3a, 2).reshape(-1, 2)\n",
    "path3a[:, 0] = 0.5\n",
    "path3b = np.linspace(0.5, 1, 6)\n",
    "path3b = np.repeat(path3b, 2).reshape(-1, 2)\n",
    "path3b[:, 1] = 0.5\n",
    "path3 = np.concatenate([path3a, path3b], axis=0)\n",
    "path3 += np.random.rand(*path3.shape) * .02\n",
    "\n",
    "\n",
    "paths = [path1, path2, path3]\n",
    "\n",
    "w, h = 128, 128\n",
    "img = np.zeros((w, h, 3), dtype=np.uint8)\n",
    "\n",
    "colors = np.array([[255, 0, 0], [0, 255, 0], [100, 200, 255]], dtype=np.uint8)\n",
    "\n",
    "for i, path in enumerate(paths):\n",
    "    for point in path:\n",
    "        xy = (int(point[0] * w), int(point[1] * h))\n",
    "        if xy[0] < 0 or xy[1] < 0 or xy[0] >= w or xy[1] >= h:\n",
    "            continue\n",
    "        img[xy] = colors[i]\n",
    "\n",
    "plt.imshow(img)"
   ]
  },
  {
   "cell_type": "code",
   "execution_count": null,
   "id": "18ffe9c9",
   "metadata": {},
   "outputs": [],
   "source": []
  },
  {
   "cell_type": "code",
   "execution_count": 30,
   "id": "b1fba217-bb49-4a86-a228-8732d9eef46a",
   "metadata": {},
   "outputs": [
    {
     "name": "stdout",
     "output_type": "stream",
     "text": [
      "[[array([0.51361177, 1.01825479])], [array([0.50112409, 1.00130897])], [array([1.00063431, 0.51360701])]]\n"
     ]
    }
   ],
   "source": [
    "routes = []\n",
    "routes_slopes = []\n",
    "routes_dists = []\n",
    "threshold = 0.1\n",
    "\n",
    "def get_matching_route(routes, point, slope):\n",
    "    for i, (route, route_slopes, route_dists) in enumerate(zip(routes, routes_slopes, routes_dists)):\n",
    "        for rp, rs, rd in zip(route, route_slopes, route_dists):\n",
    "            close = (rp[0] - point[0])**2 + (rp[1] - point[1])**2 < threshold\n",
    "            if close:\n",
    "                return i\n",
    "    return None\n",
    "        \n",
    "for path in paths:\n",
    "    cur_route = None\n",
    "    cur_idx = None\n",
    "    for i, cur in enumerate(path):\n",
    "        prv = path[i - 1] if i > 0 else None\n",
    "        nxt = path[i + 1] if i < len(path) - 1 else cur + cur - prv\n",
    "        prv = cur + (cur - nxt) if prv is None else prv\n",
    "        \n",
    "        match = get_matching_route(routes, nxt - prv / 2, 0)\n",
    "        \n",
    "        if match is not None and match != cur_idx:\n",
    "            if cur_route is not None:\n",
    "                if cur_idx is not None:\n",
    "                    routes[cur_idx] = cur_route\n",
    "                else:\n",
    "                    routes.append(cur_route)\n",
    "            cur_route = list(routes[match])\n",
    "            cur_route.append(cur)\n",
    "            cur_idx = match\n",
    "        else:\n",
    "            cur_route = [cur]\n",
    "            cur_idx = None\n",
    "    if cur_route is not None:\n",
    "        if match is not None:\n",
    "            routes[match] = cur_route\n",
    "        else:\n",
    "            routes.append(cur_route)\n",
    "print(routes)\n"
   ]
  },
  {
   "cell_type": "code",
   "execution_count": 25,
   "id": "3fc15a61-70a6-4c64-9736-18951019077f",
   "metadata": {},
   "outputs": [
    {
     "name": "stdout",
     "output_type": "stream",
     "text": [
      "(10, 11)\n",
      "[0.00962651 0.01537398 0.03442311 0.03737874 0.05370652 0.04630769\n",
      " 0.15647981 0.2694926  0.38703815 0.49880462]\n"
     ]
    }
   ],
   "source": [
    "distances = np.linalg.norm(path1[:, np.newaxis, :] - path3[np.newaxis, :, :], axis=2)\n",
    "\n",
    "print(distances.shape)\n",
    "print(np.min(distances, axis=1))\n",
    "\n"
   ]
  },
  {
   "cell_type": "code",
   "execution_count": null,
   "id": "7b74ea07",
   "metadata": {},
   "outputs": [],
   "source": []
  },
  {
   "cell_type": "code",
   "execution_count": null,
   "id": "1cfea203",
   "metadata": {},
   "outputs": [],
   "source": []
  }
 ],
 "metadata": {
  "kernelspec": {
   "display_name": "jupyter",
   "language": "python",
   "name": "python3"
  },
  "language_info": {
   "codemirror_mode": {
    "name": "ipython",
    "version": 3
   },
   "file_extension": ".py",
   "mimetype": "text/x-python",
   "name": "python",
   "nbconvert_exporter": "python",
   "pygments_lexer": "ipython3",
   "version": "3.10.6"
  }
 },
 "nbformat": 4,
 "nbformat_minor": 5
}
